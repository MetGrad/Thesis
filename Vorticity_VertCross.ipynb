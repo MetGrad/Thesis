{
 "cells": [
  {
   "cell_type": "code",
   "execution_count": 1,
   "id": "146feba5-e0ef-40ea-b8cd-8bebbc32a320",
   "metadata": {},
   "outputs": [],
   "source": [
    "import math\n",
    "import xarray as xr\n",
    "import cartopy.crs as crs\n",
    "import matplotlib as mpl\n",
    "from matplotlib import pyplot as plt \n",
    "import matplotlib.pylab as plt\n",
    "import matplotlib.path as mpath\n",
    "from matplotlib.pyplot import figure\n",
    "import numpy as np\n",
    "import cartopy.feature as cfeature\n",
    "from matplotlib.cm import get_cmap\n",
    "import pyproj\n",
    "import utm\n",
    "import pandas as pd \n",
    "import traceback \n",
    "from pathlib import Path  \n",
    "import os  \n",
    "import numpy.ma as ma\n",
    "import netCDF4 as nc\n",
    "from netCDF4 import Dataset\n",
    "import glob\n",
    "import datetime as dt\n",
    "import metpy.calc as mpcalc\n",
    "from metpy.units import units\n",
    "from metpy.cbook import get_test_data\n",
    "from metpy.io import metar\n",
    "from metpy.plots.declarative import (BarbPlot, ContourPlot, FilledContourPlot, MapPanel,\n",
    "                                     PanelContainer, PlotObs)\n",
    "from netCDF4 import date2num,num2date\n",
    "import wrf\n",
    "from wrf import (getvar, interplevel, to_np, latlon_coords, get_cartopy,\n",
    "                 cartopy_xlim, cartopy_ylim)\n",
    "from wrf import getvar, interplevel, to_np, get_basemap, latlon_coords\n",
    "from wrf import getvar, xy, interp2dxy\n",
    "from wrf import to_np, getvar, CoordPair, vertcross\n",
    "from matplotlib.cm import get_cmap\n",
    "from matplotlib.ticker import (NullFormatter, ScalarFormatter)"
   ]
  },
  {
   "cell_type": "code",
   "execution_count": 2,
   "id": "4d1a319a-3605-4ef1-ba99-24eaa5a40e2c",
   "metadata": {},
   "outputs": [],
   "source": [
    "#CURRENT DATA\n",
    "cur_wrfout6 = Dataset('CUR_wrfout_d03_2018-03-25_06_00_00')\n",
    "cur_wrfout10 = Dataset('CUR_wrfout_d03_2018-03-25_10_00_00')\n",
    "cur_wrfout11= Dataset('CUR_wrfout_d03_2018-03-25_11_00_00')\n",
    "cur_wrfout12 = Dataset('CUR_wrfout_d03_2018-03-25_12_00_00')\n",
    "cur_wrfout13= Dataset('CUR_wrfout_d03_2018-03-25_13_00_00')\n",
    "\n",
    "#SST DATA\n",
    "sst_wrfout6 = Dataset('SST_wrfout_d03_2018-03-25_06_00_00')\n",
    "sst_wrfout10 = Dataset('SST_wrfout_d03_2018-03-25_10_00_00')\n",
    "sst_wrfout11 = Dataset('SST_wrfout_d03_2018-03-25_11_00_00')\n",
    "sst_wrfout12 = Dataset('SST_wrfout_d03_2018-03-25_12_00_00')\n",
    "sst_wrfout13 = Dataset('SST_wrfout_d03_2018-03-25_13_00_00')"
   ]
  },
  {
   "cell_type": "code",
   "execution_count": 3,
   "id": "92b970f0-4790-4c5b-9005-70334cfbf608",
   "metadata": {},
   "outputs": [],
   "source": [
    "#Get PBLH\n",
    "#Not staggered\n",
    "cur_pblh_10 = getvar(cur_wrfout10, \"PBLH\")\n",
    "cur_pblh_11 = getvar(cur_wrfout11, \"PBLH\")\n",
    "cur_pblh_12 = getvar(cur_wrfout12, \"PBLH\")\n",
    "cur_pblh_13 = getvar(cur_wrfout13, \"PBLH\")\n",
    "\n",
    "sst_pblh_10 = getvar(sst_wrfout10, \"PBLH\")\n",
    "sst_pblh_11 = getvar(sst_wrfout11, \"PBLH\")\n",
    "sst_pblh_12 = getvar(sst_wrfout12, \"PBLH\")\n",
    "sst_pblh_13 = getvar(sst_wrfout13, \"PBLH\")\n",
    "\n",
    "#Get U\n",
    "cur_U_10 = getvar(cur_wrfout10, \"U\")\n",
    "cur_U_11 = getvar(cur_wrfout11, \"U\")\n",
    "cur_U_12 = getvar(cur_wrfout12, \"U\")\n",
    "cur_U_13 = getvar(cur_wrfout13, \"U\")\n",
    "\n",
    "sst_U_10 = getvar(sst_wrfout10, \"U\")\n",
    "sst_U_11 = getvar(sst_wrfout11, \"U\")\n",
    "sst_U_12 = getvar(sst_wrfout12, \"U\")\n",
    "sst_U_13 = getvar(sst_wrfout13, \"U\")\n",
    "\n",
    "cur_V_10 = getvar(cur_wrfout10, \"V\")\n",
    "cur_V_11 = getvar(cur_wrfout11, \"V\")\n",
    "cur_V_12 = getvar(cur_wrfout12, \"V\")\n",
    "cur_V_13 = getvar(cur_wrfout13, \"V\")\n",
    "\n",
    "sst_V_10 = getvar(sst_wrfout10, \"V\")\n",
    "sst_V_11 = getvar(sst_wrfout11, \"V\")\n",
    "sst_V_12 = getvar(sst_wrfout12, \"V\")\n",
    "sst_V_13 = getvar(sst_wrfout13, \"V\")"
   ]
  },
  {
   "cell_type": "code",
   "execution_count": 4,
   "id": "8ae86169-e06f-4b07-9221-bcd03b89995c",
   "metadata": {},
   "outputs": [
    {
     "name": "stdout",
     "output_type": "stream",
     "text": [
      "goal shape: \n",
      "(99, 474, 639)\n"
     ]
    }
   ],
   "source": [
    "cur_z10 = getvar(cur_wrfout10, \"z\")\n",
    "cur_z11 = getvar(cur_wrfout11, \"z\")\n",
    "cur_z12 = getvar(cur_wrfout12, \"z\")\n",
    "cur_z13 = getvar(cur_wrfout13, \"z\")\n",
    "\n",
    "sst_z10 = getvar(sst_wrfout10, \"z\")\n",
    "sst_z11 = getvar(sst_wrfout11, \"z\")\n",
    "sst_z12 = getvar(sst_wrfout12, \"z\")\n",
    "sst_z13 = getvar(sst_wrfout13, \"z\")\n",
    "\n",
    "z_sst_south = (sst_z10 + sst_z11 +sst_z12)/3\n",
    "z_cur_south = (cur_z10 + cur_z11 +cur_z12)/3\n",
    "z_sst_north = (sst_z11 + sst_z12 +sst_z13)/3\n",
    "z_cur_north = (cur_z11 + sst_z12 +sst_z13)/3\n",
    "\n",
    "print('goal shape: ')\n",
    "print(z_sst_south .shape)"
   ]
  },
  {
   "cell_type": "code",
   "execution_count": 5,
   "id": "1910c43c-a1a6-44b4-bc18-dfc42097b89b",
   "metadata": {},
   "outputs": [
    {
     "name": "stdout",
     "output_type": "stream",
     "text": [
      "(99, 474, 640)\n"
     ]
    }
   ],
   "source": [
    "cur_uN = (cur_U_11 + cur_U_12 +cur_U_13)/3\n",
    "cur_uS = (cur_U_10 + cur_U_11 +cur_U_12)/3\n",
    "sst_uN = (sst_U_11 + sst_U_12 +sst_U_13)/3\n",
    "sst_uS = (sst_U_10 + sst_U_11 +sst_U_12)/3\n",
    "\n",
    "cur_vN = (cur_V_11 + cur_V_12 +cur_V_13)/3\n",
    "cur_vS = (cur_V_10 + cur_V_11 +cur_V_12)/3\n",
    "sst_vN = (sst_V_11 + sst_V_12 +sst_V_13)/3\n",
    "sst_vS = (sst_V_10 + sst_V_11 +sst_V_12)/3\n",
    "\n",
    "print(cur_uN.shape)\n"
   ]
  },
  {
   "cell_type": "code",
   "execution_count": 6,
   "id": "36c34bea-61de-4e6c-80ec-e7cd8ef677d1",
   "metadata": {},
   "outputs": [],
   "source": [
    "N_cur_pblh = (cur_pblh_11 + cur_pblh_12 +cur_pblh_13) /3\n",
    "N_sst_pblh = (sst_pblh_11 + sst_pblh_12 +sst_pblh_13) /3\n",
    "S_cur_pblh = (cur_pblh_10 + cur_pblh_11 +cur_pblh_12) /3\n",
    "S_sst_pblh = (sst_pblh_10 + sst_pblh_11 +sst_pblh_12) /3\n",
    "\n",
    "N_pblh_line_sst = wrf.interpline(field2d = N_sst_pblh, wrfin=cur_wrfout12, timeidx=0, stagger=None, projection=None, ll_point=None, pivot_point=None, angle=None, start_point=CoordPair(lat=28.5, lon=-89.1), end_point=CoordPair(lat=27.7, lon=-89.1), latlon=True, cache=None, meta=True)\n",
    "S_pblh_line_sst = wrf.interpline(field2d = S_sst_pblh, wrfin=cur_wrfout12, timeidx=0, stagger=None, projection=None, ll_point=None, pivot_point=None, angle=None, start_point=CoordPair(lat=26.6, lon=-89.9), end_point=CoordPair(lat=26.0, lon=-89.9), latlon=True, cache=None, meta=True)\n",
    "N_pblh_line_cur = wrf.interpline(field2d = N_cur_pblh, wrfin=cur_wrfout12, timeidx=0, stagger=None, projection=None, ll_point=None, pivot_point=None, angle=None, start_point=CoordPair(lat=28.5, lon=-89.1), end_point=CoordPair(lat=27.7, lon=-89.1), latlon=True, cache=None, meta=True)\n",
    "S_pblh_line_cur = wrf.interpline(field2d = S_cur_pblh, wrfin=cur_wrfout12, timeidx=0, stagger=None, projection=None, ll_point=None, pivot_point=None, angle=None, start_point=CoordPair(lat=26.6, lon=-89.9), end_point=CoordPair(lat=26.0, lon=-89.9), latlon=True, cache=None, meta=True)\n"
   ]
  },
  {
   "cell_type": "code",
   "execution_count": null,
   "id": "125d387e-9b05-48a0-91a5-5a3d6d94d4c8",
   "metadata": {},
   "outputs": [],
   "source": [
    "#Get Absolute Vorticity\n",
    "#wrf.g_vorticity.get_avo(wrfin=, timeidx=0, method='cat', squeeze=True, cache=None, meta=True, _key=None)\n",
    "#Relative Vorticity \n",
    "\n",
    "\n"
   ]
  },
  {
   "cell_type": "code",
   "execution_count": null,
   "id": "0098962b-29e8-45e0-afb4-9ed87e6ba5ed",
   "metadata": {},
   "outputs": [],
   "source": [
    "#CUR NORTH\n",
    "z = z_cur_north\n",
    "theta = N_speed_cur\n",
    "pblh_line = N_pblh_line_cur\n",
    "start_point = CoordPair(lat=28.5, lon=-89.1)\n",
    "end_point = CoordPair(lat=27.7, lon=-89.1)\n",
    "\n",
    "theta_cross = vertcross(theta, z, wrfin=cur_wrfout12, start_point=start_point,\n",
    "                       end_point=end_point, latlon=True, meta=True)\n",
    "\n",
    "fig = plt.figure(figsize=(12,6), dpi=200.)\n",
    "ax = plt.axes()\n",
    "coord_pairs = to_np(theta_cross.coords[\"xy_loc\"])\n",
    "x = np.arange(coord_pairs.shape[0])\n",
    "y = pblh_line\n",
    "\n",
    "theta_contours = ax.contourf(np.arange(coord_pairs.shape[0]),to_np(theta_cross[\"vertical\"]),\n",
    "                           to_np(theta_cross),np.arange(4.0, 10.0, 0.5),cmap=get_cmap(\"viridis\"))\n",
    "plt.colorbar(theta_contours, ax=ax,  label = 'm/s')\n",
    "theta_contours_line = ax.contour(np.arange(coord_pairs.shape[0]),to_np(theta_cross[\"vertical\"]),\n",
    "                           to_np(theta_cross),np.arange(4.0, 10.0, 0.5), colors = 'black')\n",
    "\n",
    "\n",
    "\n",
    "plt.clabel(theta_contours_line, inline=1, fontsize=12, fmt='%1.2f', colors = 'black')\n",
    "plt.plot(x, y, color = 'red' )\n",
    "ax.annotate('PBLH',xy=(100, 85), xycoords='figure points', fontsize=12, color = 'red')\n",
    "x_ticks = np.arange(coord_pairs.shape[0])\n",
    "x_labels = [pair.latlon_str(fmt=\"{:.2f}, {:.2f}\")\n",
    "            for pair in to_np(coord_pairs)]\n",
    "ax.set_yticks(np.linspace(0, 5000, 20))\n",
    "ax.set_ylim(0,2000) #900 max PBLH + 500m = 1400m + 200 m buffer = 1600m\n",
    "ax.set_xticks(x_ticks[::5])\n",
    "ax.set_xticklabels(x_labels[::5], rotation=45, fontsize=10)\n",
    "ax.set_xlabel(\"Latitude/Longitude\", fontsize=12)\n",
    "ax.set_ylabel(\"Height (m)\", fontsize=12)\n",
    "plt.title(\"Vorticity Vertical Cross Section\\nNorth Subdomain (SSTs + Currents)\")\n",
    "save_results_to = '/Users/Anna/Desktop/WRF/Thesis_Plots/'\n",
    "plt.savefig(save_results_to + 'north_vorticityCross_cur.png', bbox_inches = 'tight',dpi = 150)\n",
    "plt.show()"
   ]
  },
  {
   "cell_type": "code",
   "execution_count": null,
   "id": "6fcf4d8d-4d77-47d3-873e-d332364fd155",
   "metadata": {},
   "outputs": [],
   "source": []
  },
  {
   "cell_type": "code",
   "execution_count": null,
   "id": "bab2b079-d93e-43f6-9776-6578dbd630aa",
   "metadata": {},
   "outputs": [],
   "source": []
  },
  {
   "cell_type": "code",
   "execution_count": null,
   "id": "4c6af8d1-a18a-4774-a89d-4d67380ef5c6",
   "metadata": {},
   "outputs": [],
   "source": []
  }
 ],
 "metadata": {
  "kernelspec": {
   "display_name": "Python 3 (ipykernel)",
   "language": "python",
   "name": "python3"
  },
  "language_info": {
   "codemirror_mode": {
    "name": "ipython",
    "version": 3
   },
   "file_extension": ".py",
   "mimetype": "text/x-python",
   "name": "python",
   "nbconvert_exporter": "python",
   "pygments_lexer": "ipython3",
   "version": "3.8.16"
  }
 },
 "nbformat": 4,
 "nbformat_minor": 5
}
