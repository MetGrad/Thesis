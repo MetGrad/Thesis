{
 "cells": [
  {
   "cell_type": "code",
   "execution_count": 1,
   "metadata": {},
   "outputs": [],
   "source": [
    "import math\n",
    "import xarray as xr\n",
    "import cartopy.crs as ccrs\n",
    "import matplotlib as mpl\n",
    "from matplotlib import pyplot as plt \n",
    "import matplotlib.pylab as plt\n",
    "import matplotlib.path as mpath\n",
    "from matplotlib.pyplot import figure\n",
    "import numpy as np\n",
    "import cartopy.feature as cfeature\n",
    "import pyproj\n",
    "import utm\n",
    "import pandas as pd \n",
    "import traceback \n",
    "from pathlib import Path  \n",
    "import os  \n",
    "import numpy.ma as ma\n",
    "import netCDF4 as nc\n",
    "import glob\n",
    "import datetime as dt\n",
    "from netCDF4 import date2num,num2date\n",
    "#from scipy.ndimage import gaussian_filter"
   ]
  },
  {
   "cell_type": "code",
   "execution_count": 2,
   "metadata": {},
   "outputs": [],
   "source": [
    "ds = xr.open_dataset('/Users/Anna/Desktop/MSMET/Thesis/newSST.nc')"
   ]
  },
  {
   "cell_type": "code",
   "execution_count": 4,
   "metadata": {},
   "outputs": [
    {
     "name": "stdout",
     "output_type": "stream",
     "text": [
      "Frozen({'lat': <xarray.IndexVariable 'lat' (lat: 446)>\n",
      "array([24.5     , 24.508984, 24.517967, ..., 28.479536, 28.488518, 28.497501],\n",
      "      dtype=float32)\n",
      "Attributes:\n",
      "    units:      degrees_north\n",
      "    long_name:  latitude, 'lon': <xarray.IndexVariable 'lon' (lon: 613)>\n",
      "array([-93.     , -92.99102, -92.98203, ..., -87.52028, -87.5113 , -87.50231],\n",
      "      dtype=float32)\n",
      "Attributes:\n",
      "    units:      degrees_east\n",
      "    long_name:  longitude, 'time': <xarray.IndexVariable 'time' (time: 1)>\n",
      "array(['2018-03-25T00:00:00.000000000'], dtype='datetime64[ns]')\n",
      "Attributes:\n",
      "    long_name:  time, 'SST': <xarray.Variable (time: 1, lat: 446, lon: 613)>\n",
      "[273398 values with dtype=float64]\n",
      "Attributes:\n",
      "    units:          C\n",
      "    standard_name:  sea surface temperature})\n",
      "<bound method Mapping.keys of <xarray.Dataset>\n",
      "Dimensions:  (lat: 446, lon: 613, time: 1)\n",
      "Coordinates:\n",
      "  * lat      (lat) float32 24.5 24.51 24.52 24.53 ... 28.47 28.48 28.49 28.5\n",
      "  * lon      (lon) float32 -93.0 -92.99 -92.98 -92.97 ... -87.52 -87.51 -87.5\n",
      "  * time     (time) datetime64[ns] 2018-03-25\n",
      "Data variables:\n",
      "    SST      (time, lat, lon) float64 ...\n",
      "Attributes:\n",
      "    title:     WRF_test_input\n",
      "    subtitle:  SST>\n",
      "[[[23.01348171 23.01327358 23.01299109 ... 26.43642112 26.43649952\n",
      "   26.43658447]\n",
      "  [23.01348165 23.01327353 23.01299108 ... 26.43642108 26.43649949\n",
      "   26.43654217]\n",
      "  [23.01689967 23.01651091 23.01575337 ... 26.43644375 26.43652113\n",
      "   26.43656305]\n",
      "  ...\n",
      "  [21.6268218  21.62996015 21.63406793 ... 22.39241626 22.38060327\n",
      "   22.37424438]\n",
      "  [21.6261244  21.62949841 21.63367855 ... 22.39058406 22.37882697\n",
      "   22.37207554]\n",
      "  [21.62583346 21.62907792 21.63332388 ... 22.38954511 22.37722382\n",
      "   22.37010961]]]\n"
     ]
    }
   ],
   "source": [
    "print(ds.variables)\n",
    "print(ds.keys)\n",
    "print(ds.SST.values)"
   ]
  },
  {
   "cell_type": "code",
   "execution_count": null,
   "metadata": {},
   "outputs": [],
   "source": []
  }
 ],
 "metadata": {
  "kernelspec": {
   "display_name": "Python 3 (ipykernel)",
   "language": "python",
   "name": "python3"
  },
  "language_info": {
   "codemirror_mode": {
    "name": "ipython",
    "version": 3
   },
   "file_extension": ".py",
   "mimetype": "text/x-python",
   "name": "python",
   "nbconvert_exporter": "python",
   "pygments_lexer": "ipython3",
   "version": "3.8.16"
  }
 },
 "nbformat": 4,
 "nbformat_minor": 4
}
