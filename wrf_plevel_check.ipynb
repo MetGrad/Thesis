{
 "cells": [
  {
   "cell_type": "code",
   "execution_count": 1,
   "id": "62b33127-6704-4010-9392-dbf8080d05fe",
   "metadata": {},
   "outputs": [],
   "source": [
    "import math\n",
    "import xarray as xr\n",
    "import cartopy.crs as ccrs\n",
    "import matplotlib as mpl\n",
    "from matplotlib import pyplot as plt \n",
    "import matplotlib.pylab as plt\n",
    "import matplotlib.path as mpath\n",
    "from matplotlib.pyplot import figure\n",
    "import numpy as np\n",
    "import cartopy.feature as cfeature\n",
    "from matplotlib.cm import get_cmap\n",
    "import pyproj\n",
    "import utm\n",
    "import pandas as pd \n",
    "import traceback \n",
    "from pathlib import Path  \n",
    "import os  \n",
    "import numpy.ma as ma\n",
    "import netCDF4 as nc\n",
    "from netCDF4 import Dataset\n",
    "import glob\n",
    "import datetime as dt\n",
    "import metpy.calc as mpcalc\n",
    "from metpy.units import units\n",
    "from metpy.cbook import get_test_data\n",
    "from metpy.io import metar\n",
    "from metpy.plots.declarative import (BarbPlot, ContourPlot, FilledContourPlot, MapPanel,\n",
    "                                     PanelContainer, PlotObs)\n",
    "from netCDF4 import date2num,num2date\n",
    "#from scipy.ndimage import gaussian_filter\n",
    "import wrf\n",
    "from wrf import (getvar, interplevel, to_np, latlon_coords, get_cartopy,\n",
    "                 cartopy_xlim, cartopy_ylim)\n",
    "from wrf import getvar, interplevel, to_np, get_basemap, latlon_coords"
   ]
  },
  {
   "cell_type": "code",
   "execution_count": 2,
   "id": "b27525ff-39f6-4b3d-a875-d581c6db21cf",
   "metadata": {},
   "outputs": [],
   "source": [
    "#domain 3 \n",
    "#time two hrs \n",
    "wrf_plevel =  xr.open_dataset('/Users/Anna/Desktop/WRF/auxhist23_d03_2018-03-25_02_00_00')"
   ]
  },
  {
   "cell_type": "code",
   "execution_count": 5,
   "id": "81309611-27cd-4d73-9187-13e64ec7bfd7",
   "metadata": {},
   "outputs": [
    {
     "name": "stdout",
     "output_type": "stream",
     "text": [
      "[[950000.  85000.  75000.  65000.  55000.  45000.  35000.  25000.]]\n",
      "(1, 8)\n"
     ]
    }
   ],
   "source": [
    "#print(wrf_plevel.variables)\n",
    "\n",
    "xlat = wrf_plevel.XLAT.values\n",
    "xlon = wrf_plevel.XLONG.values\n",
    "p_lev = wrf_plevel.P_PL.values\n",
    "u_lev = wrf_plevel.U_PL.values\n",
    "v_lev = wrf_plevel.V_PL.values\n",
    "t_lev = wrf_plevel.T_PL.values\n",
    "rh_lev = wrf_plevel.RH_PL.values\n",
    "speed_lev = wrf_plevel.S_PL.values\n",
    "gp_lev = wrf_plevel.GHT_PL.values\n",
    "dew_lev = wrf_plevel.TD_PL.values\n",
    "mix_lev = wrf_plevel.Q_PL.values\n",
    "\n",
    "print(p_lev)\n",
    "print(p_lev.shape)\n"
   ]
  },
  {
   "cell_type": "code",
   "execution_count": null,
   "id": "b410a7a9-1d8a-49b6-a816-3c17df687353",
   "metadata": {},
   "outputs": [],
   "source": []
  },
  {
   "cell_type": "code",
   "execution_count": null,
   "id": "75b195d2-afe2-4f17-8e40-49dc21e4ecc2",
   "metadata": {},
   "outputs": [],
   "source": []
  },
  {
   "cell_type": "code",
   "execution_count": null,
   "id": "05b84b00-6a97-41a7-b971-c2f596ab3406",
   "metadata": {},
   "outputs": [],
   "source": []
  }
 ],
 "metadata": {
  "kernelspec": {
   "display_name": "Python 3 (ipykernel)",
   "language": "python",
   "name": "python3"
  },
  "language_info": {
   "codemirror_mode": {
    "name": "ipython",
    "version": 3
   },
   "file_extension": ".py",
   "mimetype": "text/x-python",
   "name": "python",
   "nbconvert_exporter": "python",
   "pygments_lexer": "ipython3",
   "version": "3.8.16"
  }
 },
 "nbformat": 4,
 "nbformat_minor": 5
}
