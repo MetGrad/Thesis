{
 "cells": [
  {
   "cell_type": "code",
   "execution_count": 2,
   "metadata": {},
   "outputs": [],
   "source": [
    "import cartopy.crs as ccrs\n",
    "import cartopy.feature as cfeature\n",
    "import matplotlib.pyplot as plt\n",
    "import numpy as np\n",
    "import xarray as xr\n",
    "\n",
    "import metpy.calc as mpcalc\n",
    "from metpy.cbook import get_test_data\n",
    "from metpy.interpolate import cross_section\n",
    "\n",
    "import pandas as pd \n",
    "import traceback "
   ]
  },
  {
   "cell_type": "code",
   "execution_count": 3,
   "metadata": {},
   "outputs": [],
   "source": [
    "#MEGA HYCOM data set\n",
    "ds_25 = xr.open_mfdataset('/Users/Anna/Desktop/MSMET/Thesis/WRFprepData/March2018HYCOM/020_archv.2018_084_*_3z.nc', combine = 'nested', concat_dim = 'time')\n",
    "ds_25.to_netcdf('test_25.nc')\n",
    "ds_25 = ds_25.metpy.parse_cf().squeeze()\n",
    "\n",
    "#ds_26 = xr.open_mfdataset('/Users/Anna/Desktop/MSMET/Thesis/WRFprepData/March2018HYCOM/020_archv.2018_085_*_3z.nc', combine = 'nested', concat_dim = 'time')\n",
    "#ds_26.to_netcdf('test_26.nc')\n",
    "#ds_26 = ds_26.metpy.parse_cf().squeeze()\n"
   ]
  },
  {
   "cell_type": "code",
   "execution_count": 6,
   "metadata": {},
   "outputs": [
    {
     "name": "stdout",
     "output_type": "stream",
     "text": [
      "<xarray.Dataset>\n",
      "Dimensions:     (MT: 8, Depth: 40, Latitude: 385, Longitude: 525, time: 8)\n",
      "Coordinates:\n",
      "  * MT          (MT) datetime64[ns] 2018-03-25T13:59:31.200000 ... 2018-03-25...\n",
      "  * Depth       (Depth) float32 0.0 2.0 4.0 6.0 ... 2.5e+03 3e+03 4e+03 5e+03\n",
      "  * Latitude    (Latitude) float32 18.09 18.13 18.17 18.21 ... 31.89 31.93 31.96\n",
      "  * Longitude   (Longitude) float32 -98.0 -97.96 -97.92 ... -77.12 -77.08 -77.04\n",
      "    Date        (MT) float64 dask.array<chunksize=(8,), meta=np.ndarray>\n",
      "    metpy_crs   object Projection: latitude_longitude\n",
      "Dimensions without coordinates: time\n",
      "Data variables:\n",
      "    u           (time, MT, Depth, Latitude, Longitude) float32 dask.array<chunksize=(1, 8, 40, 385, 525), meta=np.ndarray>\n",
      "    v           (time, MT, Depth, Latitude, Longitude) float32 dask.array<chunksize=(1, 8, 40, 385, 525), meta=np.ndarray>\n",
      "    w_velocity  (time, MT, Depth, Latitude, Longitude) float32 dask.array<chunksize=(1, 8, 40, 385, 525), meta=np.ndarray>\n",
      "    water_temp  (time, MT, Depth, Latitude, Longitude) float32 dask.array<chunksize=(1, 8, 40, 385, 525), meta=np.ndarray>\n",
      "    salinity    (time, MT, Depth, Latitude, Longitude) float32 dask.array<chunksize=(1, 8, 40, 385, 525), meta=np.ndarray>\n",
      "Attributes:\n",
      "    Conventions:  CF-1.0\n",
      "    title:        HYCOM\n",
      "    source:       HYCOM archive file\n",
      "    experiment:   01.0\n",
      "    history:      archv2ncdf3z\n"
     ]
    }
   ],
   "source": [
    "#ds_25 = xr.open_dataset('test_25.nc')\n",
    "#ds_26 = xr.open_dataset('test_26.nc')\n",
    "print(ds_25)\n"
   ]
  },
  {
   "cell_type": "code",
   "execution_count": 10,
   "metadata": {},
   "outputs": [
    {
     "ename": "ValueError",
     "evalue": "One or more of the specified variables cannot be found in this dataset",
     "output_type": "error",
     "traceback": [
      "\u001b[1;31m---------------------------------------------------------------------------\u001b[0m",
      "\u001b[1;31mValueError\u001b[0m                                Traceback (most recent call last)",
      "Cell \u001b[1;32mIn[10], line 3\u001b[0m\n\u001b[0;32m      1\u001b[0m start \u001b[38;5;241m=\u001b[39m (\u001b[38;5;241m25.006115\u001b[39m, \u001b[38;5;241m-\u001b[39m\u001b[38;5;241m88.599976\u001b[39m)\n\u001b[0;32m      2\u001b[0m end \u001b[38;5;241m=\u001b[39m (\u001b[38;5;241m25.04236\u001b[39m, \u001b[38;5;241m-\u001b[39m\u001b[38;5;241m88.640015\u001b[39m)\n\u001b[1;32m----> 3\u001b[0m cross \u001b[38;5;241m=\u001b[39m \u001b[43mcross_section\u001b[49m\u001b[43m(\u001b[49m\u001b[43mds_25\u001b[49m\u001b[43m,\u001b[49m\u001b[43m \u001b[49m\u001b[43mstart\u001b[49m\u001b[43m,\u001b[49m\u001b[43m \u001b[49m\u001b[43mend\u001b[49m\u001b[43m)\u001b[49m\u001b[38;5;241;43m.\u001b[39;49m\u001b[43mset_coords\u001b[49m\u001b[43m(\u001b[49m\u001b[43m(\u001b[49m\u001b[38;5;124;43m'\u001b[39;49m\u001b[38;5;124;43mlatitude\u001b[39;49m\u001b[38;5;124;43m'\u001b[39;49m\u001b[43m,\u001b[49m\u001b[43m \u001b[49m\u001b[38;5;124;43m'\u001b[39;49m\u001b[38;5;124;43mlongitude\u001b[39;49m\u001b[38;5;124;43m'\u001b[39;49m\u001b[43m)\u001b[49m\u001b[43m)\u001b[49m\n\u001b[0;32m      4\u001b[0m \u001b[38;5;28mprint\u001b[39m(cross)\n",
      "File \u001b[1;32m~\\anaconda3\\envs\\metpy\\lib\\site-packages\\xarray\\core\\dataset.py:1708\u001b[0m, in \u001b[0;36mDataset.set_coords\u001b[1;34m(self, names)\u001b[0m\n\u001b[0;32m   1706\u001b[0m \u001b[38;5;28;01melse\u001b[39;00m:\n\u001b[0;32m   1707\u001b[0m     names \u001b[38;5;241m=\u001b[39m \u001b[38;5;28mlist\u001b[39m(names)\n\u001b[1;32m-> 1708\u001b[0m \u001b[38;5;28;43mself\u001b[39;49m\u001b[38;5;241;43m.\u001b[39;49m\u001b[43m_assert_all_in_dataset\u001b[49m\u001b[43m(\u001b[49m\u001b[43mnames\u001b[49m\u001b[43m)\u001b[49m\n\u001b[0;32m   1709\u001b[0m obj \u001b[38;5;241m=\u001b[39m \u001b[38;5;28mself\u001b[39m\u001b[38;5;241m.\u001b[39mcopy()\n\u001b[0;32m   1710\u001b[0m obj\u001b[38;5;241m.\u001b[39m_coord_names\u001b[38;5;241m.\u001b[39mupdate(names)\n",
      "File \u001b[1;32m~\\anaconda3\\envs\\metpy\\lib\\site-packages\\xarray\\core\\dataset.py:5032\u001b[0m, in \u001b[0;36mDataset._assert_all_in_dataset\u001b[1;34m(self, names, virtual_okay)\u001b[0m\n\u001b[0;32m   5030\u001b[0m     bad_names \u001b[38;5;241m-\u001b[39m\u001b[38;5;241m=\u001b[39m \u001b[38;5;28mself\u001b[39m\u001b[38;5;241m.\u001b[39mvirtual_variables\n\u001b[0;32m   5031\u001b[0m \u001b[38;5;28;01mif\u001b[39;00m bad_names:\n\u001b[1;32m-> 5032\u001b[0m     \u001b[38;5;28;01mraise\u001b[39;00m \u001b[38;5;167;01mValueError\u001b[39;00m(\n\u001b[0;32m   5033\u001b[0m         \u001b[38;5;124m\"\u001b[39m\u001b[38;5;124mOne or more of the specified variables \u001b[39m\u001b[38;5;124m\"\u001b[39m\n\u001b[0;32m   5034\u001b[0m         \u001b[38;5;124m\"\u001b[39m\u001b[38;5;124mcannot be found in this dataset\u001b[39m\u001b[38;5;124m\"\u001b[39m\n\u001b[0;32m   5035\u001b[0m     )\n",
      "\u001b[1;31mValueError\u001b[0m: One or more of the specified variables cannot be found in this dataset"
     ]
    }
   ],
   "source": [
    "start = (25.006115, -88.599976)\n",
    "end = (25.04236, -88.640015)\n",
    "cross = cross_section(ds_25, start, end).set_coords(('latitude', 'longitude'))\n",
    "print(cross)"
   ]
  },
  {
   "cell_type": "code",
   "execution_count": null,
   "metadata": {},
   "outputs": [],
   "source": [
    "cross['u'] = cross['u'].metpy.convert_units('m/s')\n",
    "print(cross)"
   ]
  },
  {
   "cell_type": "code",
   "execution_count": null,
   "metadata": {},
   "outputs": [],
   "source": []
  }
 ],
 "metadata": {
  "kernelspec": {
   "display_name": "Python 3 (ipykernel)",
   "language": "python",
   "name": "python3"
  },
  "language_info": {
   "codemirror_mode": {
    "name": "ipython",
    "version": 3
   },
   "file_extension": ".py",
   "mimetype": "text/x-python",
   "name": "python",
   "nbconvert_exporter": "python",
   "pygments_lexer": "ipython3",
   "version": "3.8.16"
  }
 },
 "nbformat": 4,
 "nbformat_minor": 4
}
